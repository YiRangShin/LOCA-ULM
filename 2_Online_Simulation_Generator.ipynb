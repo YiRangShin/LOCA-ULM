{
 "cells": [
  {
   "attachments": {},
   "cell_type": "markdown",
   "metadata": {},
   "source": [
    "<h1 style=\"font-size: 20px;\">In this notebook, we generate synthetic microbubble (MB) images using experimental MB signals</h1>\n"
   ]
  },
  {
   "cell_type": "code",
   "execution_count": 1,
   "metadata": {},
   "outputs": [
    {
     "name": "stderr",
     "output_type": "stream",
     "text": [
      "/home/yirangs2/.conda/envs/decode_final/lib/python3.8/site-packages/tqdm/auto.py:22: TqdmWarning: IProgress not found. Please update jupyter and ipywidgets. See https://ipywidgets.readthedocs.io/en/stable/user_install.html\n",
      "  from .autonotebook import tqdm as notebook_tqdm\n"
     ]
    }
   ],
   "source": [
    "import os\n",
    "import numpy as np\n",
    "import matplotlib.pyplot as plt\n",
    "from PIL import Image\n",
    "\n",
    "import torch\n",
    "from torch.utils.data import DataLoader, Dataset\n",
    "\n",
    "from mbset import sample_mb_params\n",
    "from helpers import generate_image"
   ]
  },
  {
   "cell_type": "code",
   "execution_count": 2,
   "metadata": {},
   "outputs": [
    {
     "name": "stdout",
     "output_type": "stream",
     "text": [
      "CUDA is available, Running on GPU.\n"
     ]
    }
   ],
   "source": [
    "# ------ Configuration ------\n",
    "\n",
    "def initialize(seed=0):\n",
    "    torch.cuda.empty_cache()\n",
    "\n",
    "    torch.manual_seed(seed)\n",
    "    np.random.seed(seed)\n",
    "\n",
    "    if torch.cuda.is_available():\n",
    "        torch.cuda.manual_seed_all(seed)\n",
    "        device = 'cuda:0'\n",
    "        print(\"CUDA is available, Running on GPU.\")\n",
    "    else:\n",
    "        device = 'cpu'\n",
    "        print(\"CUDA is not available, Running on CPU\")\n",
    "    \n",
    "    return device\n",
    "\n",
    "device = initialize(seed=0)\n"
   ]
  },
  {
   "cell_type": "code",
   "execution_count": 3,
   "metadata": {},
   "outputs": [],
   "source": [
    "# ------ Create simulation data for training ------\n",
    "\n",
    "class SuperResDataset(Dataset):\n",
    "    def __init__(self, length, n, b_mean, b_std, v_min, v_max, t_start_min, t_start_max, t_dur_min, t_dur_max, t_end,\n",
    "                 psf_data_dir, Na, Nl, Nt_in, epoch):\n",
    "\n",
    "        self.length = length\n",
    "        self.n = n\n",
    "        self.b_mean = b_mean\n",
    "        self.b_std = b_std\n",
    "        self.v_min = v_min\n",
    "        self.v_max = v_max\n",
    "        self.t_start_min = t_start_min\n",
    "        self.t_start_max = t_start_max\n",
    "        self.t_dur_min = t_dur_min\n",
    "        self.t_dur_max = t_dur_max\n",
    "        self.t_end = t_end\n",
    "\n",
    "        self.psf_data_dir = psf_data_dir\n",
    "        self.Na = Na\n",
    "        self.Nl = Nl\n",
    "        self.Nt_in = Nt_in\n",
    "        self.epoch = epoch\n",
    "\n",
    "    def __len__(self):\n",
    "        return self.length\n",
    "\n",
    "    def __getitem__(self, idx):\n",
    "\n",
    "        self._initialize_stacks()\n",
    "        self._create_MB_flow()\n",
    "        self._load_MB_PSF()\n",
    "        self._process_frames()\n",
    "\n",
    "        input, target = self._prepare_output()\n",
    "        return input, target\n",
    "    \n",
    "    def _initialize_stacks(self):\n",
    "        self.MB_stack_TR = np.zeros((self.Na, self.Nl, self.Nt_in))\n",
    "        self.loc_stack_TR = np.zeros_like(self.MB_stack_TR)\n",
    "\n",
    "    def _create_MB_flow(self):\n",
    "        self.MB_subset = sample_mb_params(self.n, self.b_mean, self.b_std, self.t_dur_min, self.t_dur_max, self.t_start_min, self.t_start_max, self.t_end, \n",
    "                                          self.v_min, self.v_max, self.Na, self.Nl, self.Nt_in, self.epoch)\n",
    "        \n",
    "    def _load_MB_PSF(self):\n",
    "        self.filenames = [name for name in os.listdir(self.psf_data_dir)]\n",
    "        self.image_cache = {filename: Image.open(os.path.join(self.psf_data_dir, filename)).convert('RGB') \n",
    "                            for filename in self.filenames}\n",
    "\n",
    "    def _process_frames(self):\n",
    "        for frame in range(self.Nt_in):\n",
    "            self._process_single_frame(frame)\n",
    "\n",
    "    def _process_single_frame(self, frame):\n",
    "        MB = self.MB_subset.get_subset_frame(frame, frame)\n",
    "        \n",
    "        out_im = np.zeros((self.Na, self.Nl, 3, MB.xy.shape[0]), dtype=float)\n",
    "        for indx, (xpos, ypos) in enumerate(MB.xy):\n",
    "     \n",
    "            if 0 <= xpos <= self.Na and 0 <= ypos <= self.Nl:\n",
    "                self._process_mb(indx, xpos, ypos, MB.brightness, out_im, frame)\n",
    "        \n",
    "        final_im = np.sum(out_im, 3)[:, :, 0]\n",
    "        self.MB_stack_TR[:, :, frame] = np.clip(final_im, 0, 1)\n",
    "    \n",
    "    def _process_mb(self, indx, xpos, ypos, brightness, out_im, frame):\n",
    "\n",
    "        psf_id = np.random.randint(len(self.filenames))\n",
    "        psf_image = self.image_cache[self.filenames[psf_id]]\n",
    "        img = np.array(psf_image)\n",
    "                \n",
    "        out_im, self.loc_stack_TR = generate_image(indx, xpos, ypos, brightness, img, out_im, self.loc_stack_TR, frame, self.Na, self.Nl)\n",
    "\n",
    "\n",
    "    def _prepare_output(self):\n",
    "        MB_stack_rescaled_TR = (self.MB_stack_TR * 255).astype(np.uint8)       \n",
    "        loc_stack_rescaled_TR = self.loc_stack_TR.astype(np.uint8)\n",
    "        \n",
    "        input = torch.from_numpy(np.transpose(MB_stack_rescaled_TR, (2, 0, 1))).float()\n",
    "        target = torch.from_numpy(np.transpose(loc_stack_rescaled_TR, (2, 0, 1))).long()\n",
    "\n",
    "        input.unsqueeze_(0)\n",
    "        target.unsqueeze_(0)\n",
    "\n",
    "        return input, target"
   ]
  },
  {
   "cell_type": "code",
   "execution_count": 4,
   "metadata": {},
   "outputs": [],
   "source": [
    "# ----- Set parameters  -----\n",
    "\n",
    "n = 250 # Number of Microbubbles\n",
    "\n",
    "b_mean = 120 # brightness\n",
    "b_std = 10\n",
    "\n",
    "v_max = 5 # speed\n",
    "v_min = 0\n",
    "\n",
    "n_TR = 1 \n",
    "\n",
    "Na = 80 # Image size \n",
    "Nl = 80\n",
    "Nt_in = 500 # Total number of time frames\n",
    "\n",
    "t_start_min = 0 # min start time of MB appearance  \n",
    "t_start_max = Nt_in*n_TR\n",
    "\n",
    "t_dur_min = 1 # MB lifetime range\n",
    "t_dur_max = 20\n",
    "\n",
    "t_end = t_start_max + t_dur_max # end time \n",
    "\n",
    "psf_data_dir = \"data/PSF/experimental_PSF\" # PSF data directory \n",
    "\n"
   ]
  },
  {
   "cell_type": "code",
   "execution_count": 5,
   "metadata": {},
   "outputs": [
    {
     "data": {
      "image/png": "[encoded data removed]",
      "text/plain": [
       "<Figure size 576x1152 with 8 Axes>"
      ]
     },
     "metadata": {
      "needs_background": "light"
     },
     "output_type": "display_data"
    }
   ],
   "source": [
    "# ----- Display Generated Data -----\n",
    "\n",
    "epoch = 1\n",
    "dataset_train = SuperResDataset(length=1, n=n, b_mean=b_mean, b_std=b_std, v_min=v_min, v_max=v_max, t_start_min=t_start_min, t_start_max=t_start_max, t_dur_min=t_dur_min, t_dur_max=t_dur_max, t_end = t_end,\n",
    "                                    psf_data_dir=psf_data_dir, Na=Na, Nl=Nl, Nt_in=Nt_in, epoch=epoch)\n",
    "train_loader = DataLoader(dataset_train, batch_size=1, shuffle=False)\n",
    "\n",
    "for data in train_loader:\n",
    "    image, label_volume = data\n",
    "    image, label_volume = image.to(device), label_volume.to(device)\n",
    "    label_volume = label_volume.to(torch.float32)*255\n",
    "    \n",
    "     # -----  Display MB image and Positions -----  \n",
    "     \n",
    "    frame_num = 200\n",
    "\n",
    "    num_frames_to_plot = 4\n",
    "\n",
    "    fig, axes = plt.subplots(num_frames_to_plot, 2, figsize=(8, 4*num_frames_to_plot))\n",
    "    for i in range(num_frames_to_plot):\n",
    "        axes[i, 0].imshow(image[0][0][frame_num+i].cpu().data.numpy(), cmap='gray')\n",
    "        axes[i, 0].set_title(f\"MB Image - Frame {frame_num+i}\")\n",
    "        axes[i, 0].axis('off')\n",
    "\n",
    "        axes[i, 1].imshow(label_volume[0][0][frame_num+i].cpu().data.numpy(), cmap='gray')\n",
    "        axes[i, 1].set_title(f\"Ground Truth - Frame {frame_num+i}\")\n",
    "        axes[i, 1].axis('off')\n",
    "        \n",
    "    plt.tight_layout()\n",
    "    plt.show()"
   ]
  },
  {
   "cell_type": "code",
   "execution_count": null,
   "metadata": {},
   "outputs": [],
   "source": []
  }
 ],
 "metadata": {
  "interpreter": {
   "hash": "2985f3fd8953cab41de107c23822fe9259850816d185e4586a6494397c85edf8"
  },
  "kernelspec": {
   "display_name": "Python 3.8.13 ('unetr')",
   "language": "python",
   "name": "python3"
  },
  "language_info": {
   "codemirror_mode": {
    "name": "ipython",
    "version": 3
   },
   "file_extension": ".py",
   "mimetype": "text/x-python",
   "name": "python",
   "nbconvert_exporter": "python",
   "pygments_lexer": "ipython3",
   "version": "3.8.13"
  },
  "orig_nbformat": 4
 },
 "nbformat": 4,
 "nbformat_minor": 2
}
